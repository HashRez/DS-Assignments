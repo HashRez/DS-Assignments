{
 "cells": [
  {
   "cell_type": "code",
   "execution_count": 2,
   "id": "781cb4d3-429c-4475-80ca-79b8f8d0e591",
   "metadata": {},
   "outputs": [],
   "source": [
    "#q1:-Python programming language is developed by Guido van Rossum"
   ]
  },
  {
   "cell_type": "code",
   "execution_count": 3,
   "id": "876cbc7d-6383-47eb-a004-8fce8ab340e8",
   "metadata": {},
   "outputs": [],
   "source": [
    "#q2:Puthon support Object-oriented programming and structured programming"
   ]
  },
  {
   "cell_type": "code",
   "execution_count": 4,
   "id": "2e53d8f8-da21-40c0-bc4e-f29571200579",
   "metadata": {},
   "outputs": [],
   "source": [
    "#q3:-yes python is case sensetive in dealing with identifiers"
   ]
  },
  {
   "cell_type": "code",
   "execution_count": 5,
   "id": "481f001a-af3b-495e-804b-3addf452f006",
   "metadata": {},
   "outputs": [],
   "source": [
    "#q4:-correct extension is .py"
   ]
  },
  {
   "cell_type": "code",
   "execution_count": 6,
   "id": "ae62d034-ef3e-4cf5-8a38-c3071e7fef98",
   "metadata": {},
   "outputs": [],
   "source": [
    "#q5:-Python code is interpreted"
   ]
  },
  {
   "cell_type": "code",
   "execution_count": 7,
   "id": "6546f216-c261-47f2-8fa9-cd726577b12f",
   "metadata": {},
   "outputs": [],
   "source": [
    "#q6:-blocks of codes are\n",
    "#-module\n",
    "#-function body\n",
    "#-class defination"
   ]
  },
  {
   "cell_type": "code",
   "execution_count": 8,
   "id": "62634629-9b1a-45cc-b00b-46c11e1078b5",
   "metadata": {},
   "outputs": [],
   "source": [
    "#q7-'#' is used for single line comment"
   ]
  },
  {
   "cell_type": "code",
   "execution_count": 9,
   "id": "f1170944-446f-4efb-a5c8-85f98daa93a9",
   "metadata": {},
   "outputs": [],
   "source": [
    "#q8:=sys.version"
   ]
  },
  {
   "cell_type": "code",
   "execution_count": 10,
   "id": "ea7931ed-98f9-4749-b952-f59c6bb6a2ba",
   "metadata": {},
   "outputs": [],
   "source": [
    "#q9:-lambda"
   ]
  },
  {
   "cell_type": "code",
   "execution_count": 11,
   "id": "b471ec49-1bbc-41ca-870b-0b22327a5d94",
   "metadata": {},
   "outputs": [],
   "source": [
    "#q10:-preferred installer program"
   ]
  },
  {
   "cell_type": "code",
   "execution_count": 12,
   "id": "86bf4731-a6c5-4886-b57a-5d91c528ead9",
   "metadata": {},
   "outputs": [],
   "source": [
    "#q11:-print( ) function.\n",
    "#type( ) function.\n",
    "#input( ) function.\n",
    "#abs( ) function.\n",
    "#pow( ) function"
   ]
  },
  {
   "cell_type": "code",
   "execution_count": 13,
   "id": "f8666235-5e35-4635-9903-41d5b664778b",
   "metadata": {},
   "outputs": [],
   "source": [
    "#q12:-79 characters"
   ]
  },
  {
   "cell_type": "code",
   "execution_count": 14,
   "id": "4a01a96c-1123-4baf-863a-a0a8ff2c58d5",
   "metadata": {},
   "outputs": [],
   "source": [
    "#q13:-because\n",
    "#Python programming is a general-purpose skill used in almost all fields\n",
    "#its is beginner freindly and easy to learn\n",
    "#high earning potential"
   ]
  },
  {
   "cell_type": "code",
   "execution_count": 15,
   "id": "5e523495-bfbb-4e75-a2f1-b910ec956cca",
   "metadata": {},
   "outputs": [],
   "source": [
    "#q14:-Memory management in Python involves a private heap containing all Python objects and data structures"
   ]
  },
  {
   "cell_type": "code",
   "execution_count": 17,
   "id": "15c8483a-cc02-4261-b401-c76c1b1a1a15",
   "metadata": {},
   "outputs": [],
   "source": [
    "#q15:-Right-clicking This PC and going to Properties.\n",
    "\n",
    "#Clicking on the Advanced system settings in the menu on the left.\n",
    "\n",
    "#Clicking on the Environment Variables button o​n the bottom right.\n",
    "\n",
    "#In the System variables section, selecting the Path variable and clicking on Edit. The next screen will show all the directories that are currently a part of the PATH variable.\n",
    "\n",
    "#Clicking on New and entering Python’s install directory."
   ]
  },
  {
   "cell_type": "code",
   "execution_count": 18,
   "id": "d0846236-6627-4f7a-83fc-b317c8fb823a",
   "metadata": {},
   "outputs": [],
   "source": [
    "#q16:-yes indentation is required in python"
   ]
  }
 ],
 "metadata": {
  "kernelspec": {
   "display_name": "Python 3 (ipykernel)",
   "language": "python",
   "name": "python3"
  },
  "language_info": {
   "codemirror_mode": {
    "name": "ipython",
    "version": 3
   },
   "file_extension": ".py",
   "mimetype": "text/x-python",
   "name": "python",
   "nbconvert_exporter": "python",
   "pygments_lexer": "ipython3",
   "version": "3.10.8"
  }
 },
 "nbformat": 4,
 "nbformat_minor": 5
}

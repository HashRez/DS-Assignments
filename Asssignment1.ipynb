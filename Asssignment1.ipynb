{
 "cells": [
  {
   "cell_type": "code",
   "execution_count": 2,
   "id": "781cb4d3-429c-4475-80ca-79b8f8d0e591",
   "metadata": {},
   "outputs": [],
   "source": [
    "#q1:-Python programming language is developed by Guido van Rossum"
   ]
  },
  {
   "cell_type": "code",
   "execution_count": 3,
   "id": "876cbc7d-6383-47eb-a004-8fce8ab340e8",
   "metadata": {},
   "outputs": [],
   "source": [
    "#q2:Puthon support Object-oriented programming and structured programming"
   ]
  },
  {
   "cell_type": "code",
   "execution_count": 4,
   "id": "2e53d8f8-da21-40c0-bc4e-f29571200579",
   "metadata": {},
   "outputs": [],
   "source": [
    "#q3:-yes python is case sensetive in dealing with identifiers"
   ]
  },
  {
   "cell_type": "code",
   "execution_count": 5,
   "id": "481f001a-af3b-495e-804b-3addf452f006",
   "metadata": {},
   "outputs": [],
   "source": [
    "#q4:-correct extension is .py"
   ]
  },
  {
   "cell_type": "code",
   "execution_count": 6,
   "id": "ae62d034-ef3e-4cf5-8a38-c3071e7fef98",
   "metadata": {},
   "outputs": [],
   "source": [
    "#q5:-Python code is interpreted"
   ]
  },
  {
   "cell_type": "code",
   "execution_count": 7,
   "id": "6546f216-c261-47f2-8fa9-cd726577b12f",
   "metadata": {},
   "outputs": [],
   "source": [
    "#q6:-blocks of codes are\n",
    "#-module\n",
    "#-function body\n",
    "#-class defination"
   ]
  },
  {
   "cell_type": "code",
   "execution_count": 8,
   "id": "62634629-9b1a-45cc-b00b-46c11e1078b5",
   "metadata": {},
   "outputs": [],
   "source": [
    "#q7-'#' is used for single line comment"
   ]
  },
  {
   "cell_type": "code",
   "execution_count": null,
   "id": "f1170944-446f-4efb-a5c8-85f98daa93a9",
   "metadata": {},
   "outputs": [],
   "source": []
  }
 ],
 "metadata": {
  "kernelspec": {
   "display_name": "Python 3 (ipykernel)",
   "language": "python",
   "name": "python3"
  },
  "language_info": {
   "codemirror_mode": {
    "name": "ipython",
    "version": 3
   },
   "file_extension": ".py",
   "mimetype": "text/x-python",
   "name": "python",
   "nbconvert_exporter": "python",
   "pygments_lexer": "ipython3",
   "version": "3.10.8"
  }
 },
 "nbformat": 4,
 "nbformat_minor": 5
}

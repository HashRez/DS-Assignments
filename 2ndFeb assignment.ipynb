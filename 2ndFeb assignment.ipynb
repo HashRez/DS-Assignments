{
 "cells": [
  {
   "cell_type": "code",
   "execution_count": null,
   "id": "4444e8a7-691d-48dd-b6b6-ee0521721812",
   "metadata": {},
   "outputs": [],
   "source": [
    "#q1\n",
    "The for statement iterates through a collection or iterable object or generator function.\n",
    "\n",
    "The while statement simply loops until a condition is False.\n",
    "\n",
    "for example\n",
    "for _ in iter(user_is_sleeping, False):\n",
    "    wait()\n",
    "    \n",
    "while example\n",
    "while user_is_sleeping():\n",
    "    wait()"
   ]
  },
  {
   "cell_type": "code",
   "execution_count": 2,
   "id": "04621ed0-3624-4d59-b490-54619edfdcfa",
   "metadata": {},
   "outputs": [
    {
     "name": "stdout",
     "output_type": "stream",
     "text": [
      "sum is  55 product is  3628800\n"
     ]
    }
   ],
   "source": [
    "#q2\n",
    "s=0\n",
    "p=1\n",
    "for i in range(1,11):\n",
    "    s=s+i\n",
    "    p=p*i\n",
    "    \n",
    "print(\"sum is \",s,'product is ',p)"
   ]
  },
  {
   "cell_type": "code",
   "execution_count": 4,
   "id": "9c8fb5c7-f104-4b10-aebf-0c1c2735a316",
   "metadata": {},
   "outputs": [
    {
     "name": "stdout",
     "output_type": "stream",
     "text": [
      "sum is  55 product is  3628800\n"
     ]
    }
   ],
   "source": [
    "i=1\n",
    "s=0\n",
    "p=1\n",
    "while i<=10:\n",
    "    s=s+i\n",
    "    p=p*i\n",
    "    i+=1\n",
    "    \n",
    "print(\"sum is \",s,'product is ',p)"
   ]
  },
  {
   "cell_type": "code",
   "execution_count": 6,
   "id": "edefcb34-8294-4427-b1e7-5fea2b1c1bac",
   "metadata": {},
   "outputs": [],
   "source": [
    "#q4"
   ]
  },
  {
   "cell_type": "code",
   "execution_count": 8,
   "id": "7f437e70-611a-46a9-8093-1a0b1f7afbfe",
   "metadata": {},
   "outputs": [
    {
     "data": {
      "text/plain": [
       "[2,\n",
       " 4,\n",
       " 5,\n",
       " 6,\n",
       " 8,\n",
       " 10,\n",
       " 12,\n",
       " 14,\n",
       " 15,\n",
       " 16,\n",
       " 18,\n",
       " 20,\n",
       " 22,\n",
       " 24,\n",
       " 25,\n",
       " 26,\n",
       " 28,\n",
       " 30,\n",
       " 32,\n",
       " 34,\n",
       " 35,\n",
       " 36,\n",
       " 38,\n",
       " 40,\n",
       " 42,\n",
       " 44,\n",
       " 45,\n",
       " 46,\n",
       " 48,\n",
       " 50,\n",
       " 52,\n",
       " 54,\n",
       " 55,\n",
       " 56,\n",
       " 58,\n",
       " 60,\n",
       " 62,\n",
       " 64,\n",
       " 65,\n",
       " 66,\n",
       " 68,\n",
       " 70,\n",
       " 72,\n",
       " 74,\n",
       " 75,\n",
       " 76,\n",
       " 78,\n",
       " 80,\n",
       " 82,\n",
       " 84,\n",
       " 85,\n",
       " 86,\n",
       " 88,\n",
       " 90,\n",
       " 92,\n",
       " 94,\n",
       " 95,\n",
       " 96,\n",
       " 98,\n",
       " 100]"
      ]
     },
     "execution_count": 8,
     "metadata": {},
     "output_type": "execute_result"
    }
   ],
   "source": [
    "l1=[]\n",
    "l2=[]\n",
    "for i in range(1,101):\n",
    "    l1.append(i)\n",
    "for i in l1:\n",
    "    if pow(i,3)%4==0 or pow(i,3)%5==0:\n",
    "        l2.append(i)\n",
    "l2"
   ]
  },
  {
   "cell_type": "code",
   "execution_count": 5,
   "id": "e8ab1eed-7eaf-46cf-9d5b-674110a410ad",
   "metadata": {},
   "outputs": [],
   "source": [
    "#q3"
   ]
  },
  {
   "cell_type": "code",
   "execution_count": 11,
   "id": "010c78b8-9699-4559-983c-8f9058c29d62",
   "metadata": {},
   "outputs": [
    {
     "name": "stdin",
     "output_type": "stream",
     "text": [
      "Enter number 310\n"
     ]
    },
    {
     "name": "stdout",
     "output_type": "stream",
     "text": [
      "2250.0\n"
     ]
    }
   ],
   "source": [
    "n=int(input(\"Enter number\"))\n",
    "if n<=100:\n",
    "    p=4.5*n\n",
    "elif n>100 and n<=200:\n",
    "    p=4.5*100 + (6*(n-100))\n",
    "elif n<=300 and n>200:\n",
    "    p=4.5*100 + (6*100)+(10*(n-200))\n",
    "else:\n",
    "    p=4.5*100 + (6*100)+(10*100)+(20*(n-300))\n",
    "\n",
    "print(p)"
   ]
  },
  {
   "cell_type": "code",
   "execution_count": 13,
   "id": "9c95dd91-f9c3-4169-8239-fdeebd260eea",
   "metadata": {},
   "outputs": [
    {
     "name": "stdout",
     "output_type": "stream",
     "text": [
      "12\n"
     ]
    }
   ],
   "source": [
    "#q5\n",
    "st = \"I want to become a data scientist\"\n",
    "s=(st.upper())\n",
    "c=0\n",
    "\n",
    "for i in s:\n",
    "    if i=='A' or i=='E' or i=='I' or i=='O' or i=='U':\n",
    "        c+=1\n",
    "print(c)"
   ]
  },
  {
   "cell_type": "code",
   "execution_count": null,
   "id": "58b9ff72-1392-49a5-b715-b15eee18c630",
   "metadata": {},
   "outputs": [],
   "source": []
  }
 ],
 "metadata": {
  "kernelspec": {
   "display_name": "Python 3 (ipykernel)",
   "language": "python",
   "name": "python3"
  },
  "language_info": {
   "codemirror_mode": {
    "name": "ipython",
    "version": 3
   },
   "file_extension": ".py",
   "mimetype": "text/x-python",
   "name": "python",
   "nbconvert_exporter": "python",
   "pygments_lexer": "ipython3",
   "version": "3.10.8"
  }
 },
 "nbformat": 4,
 "nbformat_minor": 5
}

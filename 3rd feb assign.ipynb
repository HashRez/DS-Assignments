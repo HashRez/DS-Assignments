{
 "cells": [
  {
   "cell_type": "code",
   "execution_count": 1,
   "id": "42c2f0de-2e64-41bd-88f3-32865e4fea6c",
   "metadata": {},
   "outputs": [
    {
     "name": "stdout",
     "output_type": "stream",
     "text": [
      "[1, 3, 5, 7, 9, 11, 13, 15, 17, 19, 21, 23, 25]\n"
     ]
    }
   ],
   "source": [
    "#q1\n",
    "#def keyword is used to declare function\n",
    "\n",
    "def odd():\n",
    "    l=[]\n",
    "    for i in range(1,26):\n",
    "        if i%2!=0:\n",
    "            l.append(i)\n",
    "    print(l)\n",
    "    \n",
    "odd()"
   ]
  },
  {
   "cell_type": "code",
   "execution_count": 6,
   "id": "c278571b-ebe0-4d5d-bdfb-4b8b8d9ad8a9",
   "metadata": {},
   "outputs": [
    {
     "name": "stdout",
     "output_type": "stream",
     "text": [
      "Hello\n",
      "Welcome\n",
      "to\n",
      "PWSkills\n",
      "first :-== P\n",
      "mid :-== W\n",
      "last :-== SKILLS\n"
     ]
    }
   ],
   "source": [
    "#q2\n",
    "#to take input dynamically use *args\n",
    "\n",
    "def myFun(*argv):\n",
    "\tfor arg in argv:\n",
    "\t\tprint(arg)\n",
    "\n",
    "\n",
    "myFun('Hello', 'Welcome', 'to', 'PWSkills')\n",
    "\n",
    "#**kwargs is use to pass dictionary dynamically\n",
    "\n",
    "\n",
    "def myFun(**kwargs):\n",
    "    for key, value in kwargs.items():\n",
    "        print(key ,\":-==\",value)\n",
    "       \n",
    "  \n",
    "  \n",
    "\n",
    "myFun(first='P', mid='W', last='SKILLS')\n",
    "\n"
   ]
  },
  {
   "cell_type": "code",
   "execution_count": 51,
   "id": "76295808-930b-48d5-b2e7-a0f1afea6780",
   "metadata": {},
   "outputs": [
    {
     "name": "stdout",
     "output_type": "stream",
     "text": [
      "2\n",
      "4\n",
      "6\n",
      "8\n",
      "10\n"
     ]
    }
   ],
   "source": [
    "#q3\n",
    "#An iterator is an object that contains a countable number of values\n",
    "\n",
    "#Iter() method\n",
    "\n",
    "l=iter([2, 4, 6, 8, 10, 12, 14,16, 18, 20])\n",
    "for i in range(5):\n",
    "    print(next(l))"
   ]
  },
  {
   "cell_type": "code",
   "execution_count": 9,
   "id": "e5d676f7-03be-4412-adb1-6585eeda9990",
   "metadata": {},
   "outputs": [],
   "source": [
    "#q4\n",
    "#Generator functions are a special kind of function that return a lazy iterator called a generator iterator. \n",
    "#These are objects that you can loop over like a list.\n",
    "#However, unlike lists, lazy iterators do not store their contents in memory.\n",
    "\n",
    "#The yield keyword in Python controls the flow of a generator function.\n",
    "#This is similar to a return statement used for returning values in Python.\n",
    "\n",
    "def fib(n):\n",
    "    a,b=0,1\n",
    "    for i in range(n):\n",
    "        yield a #special keyword to create generator function works similar to return function\n",
    "        a,b=b,a+b"
   ]
  },
  {
   "cell_type": "code",
   "execution_count": 47,
   "id": "64c4eb5f-4f5c-4536-b21f-92d33bace5e7",
   "metadata": {},
   "outputs": [
    {
     "name": "stdout",
     "output_type": "stream",
     "text": [
      "2\n",
      "3\n",
      "5\n",
      "7\n",
      "11\n",
      "13\n",
      "17\n",
      "19\n",
      "23\n",
      "29\n",
      "31\n",
      "37\n",
      "41\n",
      "43\n",
      "47\n",
      "53\n",
      "59\n",
      "61\n",
      "67\n",
      "71\n"
     ]
    }
   ],
   "source": [
    "#q5\n",
    "def Prime(n):\n",
    "    for i in range(2,n+1):\n",
    "        p=1\n",
    "        for j in range(2,int(i**0.5)+1):\n",
    "            if i%j==0:\n",
    "                p=0\n",
    "                break;\n",
    "        if p==1:            \n",
    "            yield i\n",
    "            \n",
    "prime=Prime(1000)\n",
    "for i in range(20):\n",
    "    print(next(prime))"
   ]
  },
  {
   "cell_type": "code",
   "execution_count": 10,
   "id": "173e0458-0aff-44cb-acca-48595dc734d5",
   "metadata": {},
   "outputs": [
    {
     "name": "stdout",
     "output_type": "stream",
     "text": [
      "1\n",
      "1\n",
      "2\n",
      "3\n",
      "5\n",
      "8\n",
      "13\n",
      "21\n",
      "34\n",
      "55\n"
     ]
    }
   ],
   "source": [
    "#q6\n",
    "a=1\n",
    "b=1\n",
    "n=1\n",
    "while n<=10:\n",
    "    print (a)\n",
    "    fib=a+b\n",
    "    a=b\n",
    "    b=fib\n",
    "    n+=1"
   ]
  },
  {
   "cell_type": "code",
   "execution_count": 12,
   "id": "f04763a4-b3ba-42f2-8143-1254a0b2b711",
   "metadata": {},
   "outputs": [
    {
     "data": {
      "text/plain": [
       "['p', 'w', 's', 'k', 'i', 'l', 'l', 's']"
      ]
     },
     "execution_count": 12,
     "metadata": {},
     "output_type": "execute_result"
    }
   ],
   "source": [
    "#q7\n",
    "l=list('pwskills')\n",
    "[i for i in l]"
   ]
  },
  {
   "cell_type": "code",
   "execution_count": 26,
   "id": "913a5623-a5f7-4c9d-aef6-91279b72ca6b",
   "metadata": {},
   "outputs": [
    {
     "name": "stdin",
     "output_type": "stream",
     "text": [
      "Enter Number 145\n"
     ]
    },
    {
     "name": "stdout",
     "output_type": "stream",
     "text": [
      "541\n",
      "not Palindrom\n"
     ]
    }
   ],
   "source": [
    "#q8\n",
    "def palin(n):\n",
    "    p=0\n",
    "    while n>0:\n",
    "        k=n%10\n",
    "        p=p*10+k        \n",
    "        n=int(n/10)\n",
    "    return p\n",
    "\n",
    "n=int(input(\"Enter Number\"))\n",
    "k=palin(n)\n",
    "print(k)\n",
    "if k==n:\n",
    "    print('Palindrom')\n",
    "else:\n",
    "    print(\"not Palindrom\")"
   ]
  },
  {
   "cell_type": "code",
   "execution_count": 27,
   "id": "0827bc8f-8316-4b77-90b7-5c15c554a451",
   "metadata": {},
   "outputs": [
    {
     "data": {
      "text/plain": [
       "[1,\n",
       " 3,\n",
       " 5,\n",
       " 7,\n",
       " 9,\n",
       " 11,\n",
       " 13,\n",
       " 15,\n",
       " 17,\n",
       " 19,\n",
       " 21,\n",
       " 23,\n",
       " 25,\n",
       " 27,\n",
       " 29,\n",
       " 31,\n",
       " 33,\n",
       " 35,\n",
       " 37,\n",
       " 39,\n",
       " 41,\n",
       " 43,\n",
       " 45,\n",
       " 47,\n",
       " 49,\n",
       " 51,\n",
       " 53,\n",
       " 55,\n",
       " 57,\n",
       " 59,\n",
       " 61,\n",
       " 63,\n",
       " 65,\n",
       " 67,\n",
       " 69,\n",
       " 71,\n",
       " 73,\n",
       " 75,\n",
       " 77,\n",
       " 79,\n",
       " 81,\n",
       " 83,\n",
       " 85,\n",
       " 87,\n",
       " 89,\n",
       " 91,\n",
       " 93,\n",
       " 95,\n",
       " 97,\n",
       " 99]"
      ]
     },
     "execution_count": 27,
     "metadata": {},
     "output_type": "execute_result"
    }
   ],
   "source": [
    "#q9\n",
    "[i for i in range(1,101) if i%2!=0]"
   ]
  },
  {
   "cell_type": "code",
   "execution_count": null,
   "id": "3c59728b-e7d0-421a-9061-068a3cbd2045",
   "metadata": {},
   "outputs": [],
   "source": []
  }
 ],
 "metadata": {
  "kernelspec": {
   "display_name": "Python 3 (ipykernel)",
   "language": "python",
   "name": "python3"
  },
  "language_info": {
   "codemirror_mode": {
    "name": "ipython",
    "version": 3
   },
   "file_extension": ".py",
   "mimetype": "text/x-python",
   "name": "python",
   "nbconvert_exporter": "python",
   "pygments_lexer": "ipython3",
   "version": "3.10.8"
  }
 },
 "nbformat": 4,
 "nbformat_minor": 5
}
